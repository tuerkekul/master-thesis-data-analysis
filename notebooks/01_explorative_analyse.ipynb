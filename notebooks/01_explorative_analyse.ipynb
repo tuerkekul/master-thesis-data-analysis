{
 "cells": [
  {
   "cell_type": "code",
   "execution_count": 3,
   "metadata": {},
   "outputs": [
    {
     "ename": "ImportError",
     "evalue": "Unable to import required dependencies:\nnumpy: Error importing numpy: you should not try to import numpy from\n        its source directory; please exit the numpy source tree, and relaunch\n        your python interpreter from there.",
     "output_type": "error",
     "traceback": [
      "\u001b[0;31m---------------------------------------------------------------------------\u001b[0m",
      "\u001b[0;31mImportError\u001b[0m                               Traceback (most recent call last)",
      "Cell \u001b[0;32mIn[3], line 1\u001b[0m\n\u001b[0;32m----> 1\u001b[0m \u001b[38;5;28;01mimport\u001b[39;00m\u001b[38;5;250m \u001b[39m\u001b[38;5;21;01mpandas\u001b[39;00m\u001b[38;5;250m \u001b[39m\u001b[38;5;28;01mas\u001b[39;00m\u001b[38;5;250m \u001b[39m\u001b[38;5;21;01mpd\u001b[39;00m\n\u001b[1;32m      2\u001b[0m \u001b[38;5;28;01mimport\u001b[39;00m\u001b[38;5;250m \u001b[39m\u001b[38;5;21;01mmatplotlib\u001b[39;00m\u001b[38;5;21;01m.\u001b[39;00m\u001b[38;5;21;01mpyplot\u001b[39;00m\u001b[38;5;250m \u001b[39m\u001b[38;5;28;01mas\u001b[39;00m\u001b[38;5;250m \u001b[39m\u001b[38;5;21;01mplt\u001b[39;00m\n\u001b[1;32m      3\u001b[0m \u001b[38;5;28;01mimport\u001b[39;00m\u001b[38;5;250m \u001b[39m\u001b[38;5;21;01mseaborn\u001b[39;00m\u001b[38;5;250m \u001b[39m\u001b[38;5;28;01mas\u001b[39;00m\u001b[38;5;250m \u001b[39m\u001b[38;5;21;01msns\u001b[39;00m\n",
      "File \u001b[0;32m~/Desktop/Masterarbeit/masterarbeit-analyse/masterarbeit1/lib/python3.10/site-packages/pandas/__init__.py:19\u001b[0m\n\u001b[1;32m     16\u001b[0m         _missing_dependencies\u001b[38;5;241m.\u001b[39mappend(\u001b[38;5;124mf\u001b[39m\u001b[38;5;124m\"\u001b[39m\u001b[38;5;132;01m{\u001b[39;00m_dependency\u001b[38;5;132;01m}\u001b[39;00m\u001b[38;5;124m: \u001b[39m\u001b[38;5;132;01m{\u001b[39;00m_e\u001b[38;5;132;01m}\u001b[39;00m\u001b[38;5;124m\"\u001b[39m)\n\u001b[1;32m     18\u001b[0m \u001b[38;5;28;01mif\u001b[39;00m _missing_dependencies:  \u001b[38;5;66;03m# pragma: no cover\u001b[39;00m\n\u001b[0;32m---> 19\u001b[0m     \u001b[38;5;28;01mraise\u001b[39;00m \u001b[38;5;167;01mImportError\u001b[39;00m(\n\u001b[1;32m     20\u001b[0m         \u001b[38;5;124m\"\u001b[39m\u001b[38;5;124mUnable to import required dependencies:\u001b[39m\u001b[38;5;130;01m\\n\u001b[39;00m\u001b[38;5;124m\"\u001b[39m \u001b[38;5;241m+\u001b[39m \u001b[38;5;124m\"\u001b[39m\u001b[38;5;130;01m\\n\u001b[39;00m\u001b[38;5;124m\"\u001b[39m\u001b[38;5;241m.\u001b[39mjoin(_missing_dependencies)\n\u001b[1;32m     21\u001b[0m     )\n\u001b[1;32m     22\u001b[0m \u001b[38;5;28;01mdel\u001b[39;00m _hard_dependencies, _dependency, _missing_dependencies\n\u001b[1;32m     24\u001b[0m \u001b[38;5;28;01mtry\u001b[39;00m:\n\u001b[1;32m     25\u001b[0m     \u001b[38;5;66;03m# numpy compat\u001b[39;00m\n",
      "\u001b[0;31mImportError\u001b[0m: Unable to import required dependencies:\nnumpy: Error importing numpy: you should not try to import numpy from\n        its source directory; please exit the numpy source tree, and relaunch\n        your python interpreter from there."
     ]
    }
   ],
   "source": [
    "import pandas as pd\n",
    "import matplotlib.pyplot as plt\n",
    "import seaborn as sns\n",
    "from scipy import stats\n",
    "import numpy as np\n",
    "import sklearn as sk\n",
    "\n",
    "# CSV laden\n",
    "df = pd.read_csv(\"../data/results-surveyPilot.csv\")\n",
    "print(df.columns.tolist())\n",
    "\n",
    "# Bereinigung des Datensatzes\n",
    "# Entferne Zeilen, in denen das Alter 0 ist\n",
    "df = df[df[\"Wie alt sind Sie? (Angabe in Jahren)\"] != 0]\n",
    "\n",
    "# Überblick\n",
    "df.head()"
   ]
  },
  {
   "cell_type": "code",
   "execution_count": 11,
   "metadata": {},
   "outputs": [],
   "source": [
    "# SPES-Unterteilung\n",
    "sl_items = [\n",
    "    \"Ich hatte das Gefühl, dass ich in der Umgebung der Projektion tatsächlich anwesend war.\",\n",
    "    \"Es schien, als ob ich tatsächlich an der Darstellung beteiligt war.\",\n",
    "    \"Es kam mir vor, als hätte sich mein wahrer Standort in die Umgebung der Projektion verschoben.\",\n",
    "    \"Ich hatte das Gefühl, dass ich in der Umgebung der Projektion physisch anwesend war.\"\n",
    "]\n",
    "\n",
    "pa_items = [\n",
    "    \"Die Objekte in der Projektion gaben mir das Gefühl, dass ich mit ihnen etwas anfangen kann.\",\n",
    "    \"Ich hatte den Eindruck, dass ich in der Umgebung der Projektion agieren konnte.\",\n",
    "    \"Ich hatte das Gefühl, dass ich mich zwischen den Objekten in der Projektion bewegen konnte.\",\n",
    "    \"Ich hatte den Eindruck, dass ich in der Umgebung der Projektion alles tun konnte, was ich wollte.\"\n",
    "]\n"
   ]
  },
  {
   "cell_type": "code",
   "execution_count": 12,
   "metadata": {},
   "outputs": [],
   "source": [
    "# Mittelwerte für SL (Immersion) und PA (Interaktivität) der Gesamtheit\n",
    "df[\"SL_Mean\"] = df[sl_items].mean(axis=1)\n",
    "df[\"PA_Mean\"] = df[pa_items].mean(axis=1)\n"
   ]
  },
  {
   "cell_type": "code",
   "execution_count": 13,
   "metadata": {},
   "outputs": [
    {
     "data": {
      "text/html": [
       "<div>\n",
       "<style scoped>\n",
       "    .dataframe tbody tr th:only-of-type {\n",
       "        vertical-align: middle;\n",
       "    }\n",
       "\n",
       "    .dataframe tbody tr th {\n",
       "        vertical-align: top;\n",
       "    }\n",
       "\n",
       "    .dataframe thead th {\n",
       "        text-align: right;\n",
       "    }\n",
       "</style>\n",
       "<table border=\"1\" class=\"dataframe\">\n",
       "  <thead>\n",
       "    <tr style=\"text-align: right;\">\n",
       "      <th></th>\n",
       "      <th>SL_Mean</th>\n",
       "      <th>PA_Mean</th>\n",
       "    </tr>\n",
       "  </thead>\n",
       "  <tbody>\n",
       "    <tr>\n",
       "      <th>count</th>\n",
       "      <td>104.000000</td>\n",
       "      <td>104.000000</td>\n",
       "    </tr>\n",
       "    <tr>\n",
       "      <th>mean</th>\n",
       "      <td>2.838942</td>\n",
       "      <td>3.062500</td>\n",
       "    </tr>\n",
       "    <tr>\n",
       "      <th>std</th>\n",
       "      <td>0.963483</td>\n",
       "      <td>0.919549</td>\n",
       "    </tr>\n",
       "    <tr>\n",
       "      <th>min</th>\n",
       "      <td>1.000000</td>\n",
       "      <td>1.000000</td>\n",
       "    </tr>\n",
       "    <tr>\n",
       "      <th>25%</th>\n",
       "      <td>2.000000</td>\n",
       "      <td>2.500000</td>\n",
       "    </tr>\n",
       "    <tr>\n",
       "      <th>50%</th>\n",
       "      <td>3.000000</td>\n",
       "      <td>3.125000</td>\n",
       "    </tr>\n",
       "    <tr>\n",
       "      <th>75%</th>\n",
       "      <td>3.500000</td>\n",
       "      <td>3.750000</td>\n",
       "    </tr>\n",
       "    <tr>\n",
       "      <th>max</th>\n",
       "      <td>5.000000</td>\n",
       "      <td>5.000000</td>\n",
       "    </tr>\n",
       "  </tbody>\n",
       "</table>\n",
       "</div>"
      ],
      "text/plain": [
       "          SL_Mean     PA_Mean\n",
       "count  104.000000  104.000000\n",
       "mean     2.838942    3.062500\n",
       "std      0.963483    0.919549\n",
       "min      1.000000    1.000000\n",
       "25%      2.000000    2.500000\n",
       "50%      3.000000    3.125000\n",
       "75%      3.500000    3.750000\n",
       "max      5.000000    5.000000"
      ]
     },
     "execution_count": 13,
     "metadata": {},
     "output_type": "execute_result"
    }
   ],
   "source": [
    "df[[\"SL_Mean\", \"PA_Mean\"]].describe()\n",
    "# Deskripivie Statistik für SL und PA der Gesamtheit\n"
   ]
  },
  {
   "cell_type": "code",
   "execution_count": 14,
   "metadata": {},
   "outputs": [],
   "source": [
    "# Hilfsspalte \"Grashalm_interaktion_bemerkt\" vereinfachen\n",
    "df[\"Grashalm_interaktion_bemerkt\"] = df[\n",
    "    \"Haben Sie bemerkt, dass Sie die Grashalmprojektion interaktiv beeinflussen können?\"\n",
    "].apply(lambda x: \"Ja\" if x == \"Ja\" else \"Nein\")"
   ]
  },
  {
   "cell_type": "code",
   "execution_count": 15,
   "metadata": {},
   "outputs": [
    {
     "data": {
      "text/html": [
       "<div>\n",
       "<style scoped>\n",
       "    .dataframe tbody tr th:only-of-type {\n",
       "        vertical-align: middle;\n",
       "    }\n",
       "\n",
       "    .dataframe tbody tr th {\n",
       "        vertical-align: top;\n",
       "    }\n",
       "\n",
       "    .dataframe thead th {\n",
       "        text-align: right;\n",
       "    }\n",
       "</style>\n",
       "<table border=\"1\" class=\"dataframe\">\n",
       "  <thead>\n",
       "    <tr style=\"text-align: right;\">\n",
       "      <th></th>\n",
       "      <th>SL_Mean</th>\n",
       "      <th>PA_Mean</th>\n",
       "    </tr>\n",
       "    <tr>\n",
       "      <th>Grashalm_interaktion_bemerkt</th>\n",
       "      <th></th>\n",
       "      <th></th>\n",
       "    </tr>\n",
       "  </thead>\n",
       "  <tbody>\n",
       "    <tr>\n",
       "      <th>Ja</th>\n",
       "      <td>3.267241</td>\n",
       "      <td>3.396552</td>\n",
       "    </tr>\n",
       "    <tr>\n",
       "      <th>Nein</th>\n",
       "      <td>2.673333</td>\n",
       "      <td>2.933333</td>\n",
       "    </tr>\n",
       "  </tbody>\n",
       "</table>\n",
       "</div>"
      ],
      "text/plain": [
       "                               SL_Mean   PA_Mean\n",
       "Grashalm_interaktion_bemerkt                    \n",
       "Ja                            3.267241  3.396552\n",
       "Nein                          2.673333  2.933333"
      ]
     },
     "execution_count": 15,
     "metadata": {},
     "output_type": "execute_result"
    }
   ],
   "source": [
    "df.groupby(\"Grashalm_interaktion_bemerkt\")[[\"SL_Mean\", \"PA_Mean\"]].mean()\n",
    "# Mittelwerte für SL und PA nach Interaktion erkannt\n"
   ]
  },
  {
   "cell_type": "code",
   "execution_count": null,
   "metadata": {},
   "outputs": [
    {
     "data": {
      "image/png": "[encoded data removed]",
      "text/plain": [
       "<Figure size 640x480 with 1 Axes>"
      ]
     },
     "metadata": {},
     "output_type": "display_data"
    }
   ],
   "source": [
    "# Neue Kopie der Daten mit \"Gesamt\"-Gruppe\n",
    "df_gesamt = df.copy()\n",
    "df_gesamt[\"Grashalm_interaktion_bemerkt\"] = \"Gesamt\"\n",
    "\n",
    "# Kombinieren der Gruppen\n",
    "df_combined = pd.concat([df, df_gesamt], ignore_index=True)\n",
    "\n",
    "# Boxplot mit allen drei Gruppen\n",
    "sns.boxplot(data=df_combined, x=\"Grashalm_interaktion_bemerkt\", y=\"PA_Mean\")\n",
    "plt.title(\"Interaktivität (PA) nach Wahrnehmung der Grashalm-Interaktion (inkl. Gesamt)\")\n",
    "plt.xlabel(\"Wahrnehmung der Interaktivität\")\n",
    "plt.ylabel(\"PA_Mean\")\n",
    "plt.show()\n"
   ]
  },
  {
   "cell_type": "code",
   "execution_count": 17,
   "metadata": {},
   "outputs": [],
   "source": [
    "ux_items = [\n",
    "    \"Das System reagierte schnell und ohne spürbare Verzögerung auf meine Eingaben.\",\n",
    "    \"Die Steuerung des Systems war intuitiv und leicht verständlich.\",\n",
    "    \"Ich konnte meine beabsichtigten Aktionen problemlos ausführen.\"\n",
    "]\n",
    "# UX Items (Neue Skala für Systemeffizienz)"
   ]
  },
  {
   "cell_type": "code",
   "execution_count": 18,
   "metadata": {},
   "outputs": [],
   "source": [
    "df_interaktiv = df[df[\"Grashalm_interaktion_bemerkt\"] == \"Ja\"].copy()\n",
    "# Neuer Dataframe für Interaktion erkannt\n"
   ]
  },
  {
   "cell_type": "code",
   "execution_count": 23,
   "metadata": {},
   "outputs": [
    {
     "name": "stdout",
     "output_type": "stream",
     "text": [
      "0.7606161515993863\n"
     ]
    }
   ],
   "source": [
    "from scipy.stats import zscore\n",
    "from numpy import nanmean\n",
    "\n",
    "def cronbach_alpha(df_subset):\n",
    "    df_corr = df_subset.corr()\n",
    "    N = len(df_subset.columns)\n",
    "    mean_corr = df_corr.where(~np.eye(N, dtype=bool)).mean().mean()\n",
    "    return (N * mean_corr) / (1 + (N - 1) * mean_corr)\n",
    "\n",
    "print(cronbach_alpha(df_interaktiv[ux_items]))\n",
    "# Cronbachs Alpha für UX Items (Interaktion erkannt)"
   ]
  },
  {
   "cell_type": "code",
   "execution_count": 24,
   "metadata": {},
   "outputs": [
    {
     "name": "stdout",
     "output_type": "stream",
     "text": [
      "Cronbach’s Alpha für SL: 0.7960339915947849\n",
      "Cronbach’s Alpha für PA: 0.6864760305416128\n",
      "Cronbach’s Alpha für SPES (gesamt): 0.8144908948960342\n"
     ]
    }
   ],
   "source": [
    "print(\"Cronbach’s Alpha für SL:\", cronbach_alpha(df[sl_items]))\n",
    "print(\"Cronbach’s Alpha für PA:\", cronbach_alpha(df[pa_items]))\n",
    "print(\"Cronbach’s Alpha für SPES (gesamt):\", cronbach_alpha(df[sl_items + pa_items]))\n",
    "# Cronbach’s Alpha für SL, PA und SPES (gesamt)"
   ]
  },
  {
   "cell_type": "code",
   "execution_count": 71,
   "metadata": {},
   "outputs": [],
   "source": [
    "# Gruppe: Interaktion bemerkt\n",
    "df_interaktion_bemerkt = df[df[\"Grashalm_interaktion_bemerkt\"] == \"Ja\"]\n",
    "\n",
    "# Gruppe: Interaktion nicht bemerkt\n",
    "df_interaktion_nicht_bemerkt = df[df[\"Grashalm_interaktion_bemerkt\"] == \"Nein\"]\n",
    "\n",
    "# Gruppe: Gesamt (alle Teilnehmenden)\n",
    "df_gesamt = df.copy()"
   ]
  },
  {
   "cell_type": "code",
   "execution_count": 72,
   "metadata": {},
   "outputs": [
    {
     "name": "stdout",
     "output_type": "stream",
     "text": [
      "Deskriptive Statistik - Interaktion bemerkt\n",
      "         SL_Mean    PA_Mean  \\\n",
      "count  29.000000  29.000000   \n",
      "mean    3.267241   3.396552   \n",
      "std     0.787545   0.766244   \n",
      "min     1.500000   2.000000   \n",
      "25%     3.000000   3.000000   \n",
      "50%     3.500000   3.250000   \n",
      "75%     3.750000   3.750000   \n",
      "max     5.000000   5.000000   \n",
      "\n",
      "       Wie zufrieden waren Sie insgesamt mit der Rauminstallation?  \\\n",
      "count                                          29.000000             \n",
      "mean                                            3.862069             \n",
      "std                                             0.953345             \n",
      "min                                             2.000000             \n",
      "25%                                             4.000000             \n",
      "50%                                             4.000000             \n",
      "75%                                             4.000000             \n",
      "max                                             5.000000             \n",
      "\n",
      "       Wie alt sind Sie? (Angabe in Jahren)  \n",
      "count                             29.000000  \n",
      "mean                              38.000000  \n",
      "std                               17.018897  \n",
      "min                               16.000000  \n",
      "25%                               26.000000  \n",
      "50%                               30.000000  \n",
      "75%                               52.000000  \n",
      "max                               81.000000  \n",
      "\n",
      "Deskriptive Statistik - Interaktion nicht bemerkt\n",
      "         SL_Mean    PA_Mean  \\\n",
      "count  75.000000  75.000000   \n",
      "mean    2.673333   2.933333   \n",
      "std     0.978634   0.945592   \n",
      "min     1.000000   1.000000   \n",
      "25%     2.000000   2.250000   \n",
      "50%     2.500000   3.000000   \n",
      "75%     3.500000   3.750000   \n",
      "max     4.750000   4.500000   \n",
      "\n",
      "       Wie zufrieden waren Sie insgesamt mit der Rauminstallation?  \\\n",
      "count                                          75.000000             \n",
      "mean                                            3.680000             \n",
      "std                                             1.140886             \n",
      "min                                             1.000000             \n",
      "25%                                             3.000000             \n",
      "50%                                             4.000000             \n",
      "75%                                             5.000000             \n",
      "max                                             5.000000             \n",
      "\n",
      "       Wie alt sind Sie? (Angabe in Jahren)  \n",
      "count                             75.000000  \n",
      "mean                              48.533333  \n",
      "std                               18.390901  \n",
      "min                               14.000000  \n",
      "25%                               31.500000  \n",
      "50%                               51.000000  \n",
      "75%                               65.000000  \n",
      "max                               84.000000  \n",
      "\n",
      "Deskriptive Statistik - Gesamt\n",
      "          SL_Mean     PA_Mean  \\\n",
      "count  104.000000  104.000000   \n",
      "mean     2.838942    3.062500   \n",
      "std      0.963483    0.919549   \n",
      "min      1.000000    1.000000   \n",
      "25%      2.000000    2.500000   \n",
      "50%      3.000000    3.125000   \n",
      "75%      3.500000    3.750000   \n",
      "max      5.000000    5.000000   \n",
      "\n",
      "       Wie zufrieden waren Sie insgesamt mit der Rauminstallation?  \\\n",
      "count                                         104.000000             \n",
      "mean                                            3.730769             \n",
      "std                                             1.090388             \n",
      "min                                             1.000000             \n",
      "25%                                             3.000000             \n",
      "50%                                             4.000000             \n",
      "75%                                             5.000000             \n",
      "max                                             5.000000             \n",
      "\n",
      "       Wie alt sind Sie? (Angabe in Jahren)  \n",
      "count                            104.000000  \n",
      "mean                              45.596154  \n",
      "std                               18.554312  \n",
      "min                               14.000000  \n",
      "25%                               27.750000  \n",
      "50%                               48.500000  \n",
      "75%                               61.250000  \n",
      "max                               84.000000  \n"
     ]
    }
   ],
   "source": [
    "# Interessante Variablen\n",
    "interessante_variablen = [\n",
    "    \"SL_Mean\", \"PA_Mean\",\n",
    "    \"Wie zufrieden waren Sie insgesamt mit der Rauminstallation?\",\n",
    "    \"Würden Sie diese Installation weiterempfehlen?\",\n",
    "    \"Wie alt sind Sie? (Angabe in Jahren)\",\n",
    "    \"Welchem Geschlecht fühlen Sie sich zugehörig?\",\n",
    "    \"Haben Sie bereits Erfahrung mit interaktiven Kunstinstallationen?\",\n",
    "    \"Wie lange haben Sie sich in der Installation aufgehalten haben?\"\n",
    "]\n",
    "\n",
    "# Deskriptive Statistik für alle Gruppen\n",
    "print(\"Deskriptive Statistik - Interaktion bemerkt\")\n",
    "print(df_interaktion_bemerkt[interessante_variablen].describe())\n",
    "\n",
    "print(\"\\nDeskriptive Statistik - Interaktion nicht bemerkt\")\n",
    "print(df_interaktion_nicht_bemerkt[interessante_variablen].describe())\n",
    "\n",
    "print(\"\\nDeskriptive Statistik - Gesamt\")\n",
    "print(df_gesamt[interessante_variablen].describe())"
   ]
  },
  {
   "cell_type": "code",
   "execution_count": 24,
   "metadata": {},
   "outputs": [],
   "source": [
    "#Durchführen von ttest\n",
    "\n",
    "# Gruppen aufteilen\n",
    "gruppe_ja = df[df[\"Grashalm_interaktion_bemerkt\"] == \"Ja\"]\n",
    "gruppe_nein = df[df[\"Grashalm_interaktion_bemerkt\"] == \"Nein\"]\n"
   ]
  },
  {
   "cell_type": "code",
   "execution_count": 25,
   "metadata": {},
   "outputs": [
    {
     "name": "stdout",
     "output_type": "stream",
     "text": [
      "t-Wert PA_Mean: 2.626, p-Wert: 0.011\n"
     ]
    }
   ],
   "source": [
    "#Berechnung für PA_Mean\n",
    "from scipy.stats import ttest_ind\n",
    "\n",
    "# Werte extrahieren\n",
    "pa_ja = gruppe_ja[\"PA_Mean\"]\n",
    "pa_nein = gruppe_nein[\"PA_Mean\"]\n",
    "\n",
    "# Welch's t-Test (empfohlen bei ungleicher Varianz/Größe)\n",
    "t_pa, p_pa = ttest_ind(pa_ja, pa_nein, equal_var=False)\n",
    "\n",
    "print(f\"t-Wert PA_Mean: {t_pa:.3f}, p-Wert: {p_pa:.3f}\")\n"
   ]
  },
  {
   "cell_type": "code",
   "execution_count": 26,
   "metadata": {},
   "outputs": [
    {
     "name": "stdout",
     "output_type": "stream",
     "text": [
      "t-Wert SL_Mean: 3.073, p-Wert: 0.003\n"
     ]
    }
   ],
   "source": [
    "#Berechnung für SL_Mean\n",
    "sl_ja = gruppe_ja[\"SL_Mean\"]\n",
    "sl_nein = gruppe_nein[\"SL_Mean\"]\n",
    "\n",
    "t_sl, p_sl = ttest_ind(sl_ja, sl_nein, equal_var=False)\n",
    "print(f\"t-Wert SL_Mean: {t_sl:.3f}, p-Wert: {p_sl:.3f}\")"
   ]
  },
  {
   "cell_type": "code",
   "execution_count": 29,
   "metadata": {},
   "outputs": [],
   "source": [
    "#SPES Mean berechnen\n",
    "# Berechnung von SPES_Mean\n",
    "spes_items = sl_items + pa_items  # SL- und PA-Items kombinieren\n",
    "df[\"SPES_Mean\"] = df[spes_items].mean(axis=1)"
   ]
  },
  {
   "cell_type": "code",
   "execution_count": 30,
   "metadata": {},
   "outputs": [
    {
     "name": "stdout",
     "output_type": "stream",
     "text": [
      "t-Wert SPES_Mean: 3.354, p-Wert: 0.001\n"
     ]
    }
   ],
   "source": [
    "#Berechnung für SPES\n",
    "spes_ja = gruppe_ja[\"SPES_Mean\"]\n",
    "spes_nein = gruppe_nein[\"SPES_Mean\"]\n",
    "\n",
    "t_spes, p_spes = ttest_ind(spes_ja, spes_nein, equal_var=False)\n",
    "print(f\"t-Wert SPES_Mean: {t_spes:.3f}, p-Wert: {p_spes:.3f}\")\n"
   ]
  },
  {
   "cell_type": "code",
   "execution_count": null,
   "metadata": {},
   "outputs": [],
   "source": [
    "#Berechnung Cohens d (Effektstärke)\n",
    "def cohens_d(x, y):\n",
    "    nx, ny = len(x), len(y)\n",
    "    pooled_std = np.sqrt(((nx - 1)*x.std()**2 + (ny - 1)*y.std()**2) / (nx + ny - 2))\n",
    "    return (x.mean() - y.mean()) / pooled_std\n",
    "\n",
    "d_pa = cohens_d(gruppe_ja[\"PA_Mean\"], gruppe_nein[\"PA_Mean\"])\n",
    "d_sl = cohens_d(gruppe_ja[\"SL_Mean\"], gruppe_nein[\"SL_Mean\"])\n",
    "d_spes = cohens_d(gruppe_ja[\"SPES_Mean\"], gruppe_nein[\"SPES_Mean\"])\n"
   ]
  },
  {
   "cell_type": "code",
   "execution_count": null,
   "metadata": {},
   "outputs": [
    {
     "data": {
      "image/png": "[encoded data removed]",
      "text/plain": [
       "<Figure size 1800x500 with 3 Axes>"
      ]
     },
     "metadata": {},
     "output_type": "display_data"
    }
   ],
   "source": [
    "#Visualisierung von ttests durch Boxplots\n",
    "fig, axs = plt.subplots(1, 3, figsize=(18, 5))\n",
    "\n",
    "# Plot für PA\n",
    "sns.boxplot(data=df, x=\"Grashalm_interaktion_bemerkt\", y=\"PA_Mean\", ax=axs[0])\n",
    "axs[0].set_title(\"PA_Mean\")\n",
    "axs[0].set_xlabel(\"\")\n",
    "axs[0].set_ylabel(\"PA\")\n",
    "\n",
    "# Signifikanzbalken\n",
    "y = df[\"PA_Mean\"].max() + 0.2\n",
    "axs[0].plot([0, 0, 1, 1], [y, y+0.05, y+0.05, y], lw=1.5, c='black')\n",
    "axs[0].text(0.5, y + 0.08, \"*\", ha='center', va='bottom', fontsize=14)\n",
    "\n",
    "# Plot für SL\n",
    "sns.boxplot(data=df, x=\"Grashalm_interaktion_bemerkt\", y=\"SL_Mean\", ax=axs[1])\n",
    "axs[1].set_title(\"SL_Mean\")\n",
    "axs[1].set_xlabel(\"\")\n",
    "axs[1].set_ylabel(\"SL\")\n",
    "y = df[\"SL_Mean\"].max() + 0.2\n",
    "axs[1].plot([0, 0, 1, 1], [y, y+0.05, y+0.05, y], lw=1.5, c='black')\n",
    "axs[1].text(0.5, y + 0.08, \"*\", ha='center', va='bottom', fontsize=14)\n",
    "\n",
    "# Plot für SPES\n",
    "sns.boxplot(data=df, x=\"Grashalm_interaktion_bemerkt\", y=\"SPES_Mean\", ax=axs[2])\n",
    "axs[2].set_title(\"SPES_Mean\")\n",
    "axs[2].set_xlabel(\"\")\n",
    "axs[2].set_ylabel(\"SPES\")\n",
    "y = df[\"SPES_Mean\"].max() + 0.2\n",
    "axs[2].plot([0, 0, 1, 1], [y, y+0.05, y+0.05, y], lw=1.5, c='black')\n",
    "axs[2].text(0.5, y + 0.08, \"*\", ha='center', va='bottom', fontsize=14)\n",
    "\n",
    "plt.tight_layout()\n",
    "plt.show()\n"
   ]
  },
  {
   "cell_type": "code",
   "execution_count": null,
   "metadata": {},
   "outputs": [
    {
     "data": {
      "text/html": [
       "<div>\n",
       "<style scoped>\n",
       "    .dataframe tbody tr th:only-of-type {\n",
       "        vertical-align: middle;\n",
       "    }\n",
       "\n",
       "    .dataframe tbody tr th {\n",
       "        vertical-align: top;\n",
       "    }\n",
       "\n",
       "    .dataframe thead th {\n",
       "        text-align: right;\n",
       "    }\n",
       "</style>\n",
       "<table border=\"1\" class=\"dataframe\">\n",
       "  <thead>\n",
       "    <tr style=\"text-align: right;\">\n",
       "      <th></th>\n",
       "      <th>Variable</th>\n",
       "      <th>t-Wert</th>\n",
       "      <th>p-Wert</th>\n",
       "      <th>Cohen's d</th>\n",
       "    </tr>\n",
       "  </thead>\n",
       "  <tbody>\n",
       "    <tr>\n",
       "      <th>0</th>\n",
       "      <td>PA_Mean</td>\n",
       "      <td>2.626</td>\n",
       "      <td>0.011</td>\n",
       "      <td>0.523027</td>\n",
       "    </tr>\n",
       "    <tr>\n",
       "      <th>1</th>\n",
       "      <td>SL_Mean</td>\n",
       "      <td>3.073</td>\n",
       "      <td>0.003</td>\n",
       "      <td>0.604523</td>\n",
       "    </tr>\n",
       "    <tr>\n",
       "      <th>2</th>\n",
       "      <td>SPES_Mean</td>\n",
       "      <td>3.354</td>\n",
       "      <td>0.001</td>\n",
       "      <td>0.656707</td>\n",
       "    </tr>\n",
       "  </tbody>\n",
       "</table>\n",
       "</div>"
      ],
      "text/plain": [
       "    Variable  t-Wert  p-Wert  Cohen's d\n",
       "0    PA_Mean   2.626   0.011   0.523027\n",
       "1    SL_Mean   3.073   0.003   0.604523\n",
       "2  SPES_Mean   3.354   0.001   0.656707"
      ]
     },
     "metadata": {},
     "output_type": "display_data"
    }
   ],
   "source": [
    "# Ergebnisse visualisieren in Tabelle\n",
    "results_df = pd.DataFrame({\n",
    "    \"Variable\": [\"PA_Mean\", \"SL_Mean\", \"SPES_Mean\"],\n",
    "    \"t-Wert\": [2.626, 3.073, 3.354],       # aus deinem Output\n",
    "    \"p-Wert\": [0.011, 0.003, 0.001],\n",
    "    \"Cohen's d\": [d_pa, d_sl, d_spes]\n",
    "})\n",
    "\n",
    "display(results_df)\n"
   ]
  },
  {
   "cell_type": "code",
   "execution_count": 36,
   "metadata": {},
   "outputs": [],
   "source": [
    "# UX-Mittelwert berechnen – nur für Gruppe \"Ja\"\n",
    "df_interaktiv = df[df[\"Grashalm_interaktion_bemerkt\"] == \"Ja\"].copy()\n",
    "df_interaktiv[\"UX_Mean\"] = df_interaktiv[ux_items].mean(axis=1)"
   ]
  },
  {
   "cell_type": "code",
   "execution_count": 37,
   "metadata": {},
   "outputs": [],
   "source": [
    "from scipy.stats import pearsonr\n",
    "\n",
    "# A) Immersion vs. Interaktivität (gesamte Stichprobe)\n",
    "r_sl_pa, p_sl_pa = pearsonr(df[\"SL_Mean\"], df[\"PA_Mean\"])\n",
    "\n",
    "# B) UX vs. Interaktivität (nur Gruppe \"Ja\")\n",
    "r_ux_pa, p_ux_pa = pearsonr(df_interaktiv[\"UX_Mean\"], df_interaktiv[\"PA_Mean\"])\n",
    "\n",
    "# C) UX vs. Immersion (nur Gruppe \"Ja\")\n",
    "r_ux_sl, p_ux_sl = pearsonr(df_interaktiv[\"UX_Mean\"], df_interaktiv[\"SL_Mean\"])\n",
    "\n",
    "# D) UX vs. SPES (nur Gruppe \"Ja\")\n",
    "r_ux_spes, p_ux_spes = pearsonr(df_interaktiv[\"UX_Mean\"], df_interaktiv[\"SPES_Mean\"])\n"
   ]
  },
  {
   "cell_type": "code",
   "execution_count": 38,
   "metadata": {},
   "outputs": [
    {
     "data": {
      "text/html": [
       "<div>\n",
       "<style scoped>\n",
       "    .dataframe tbody tr th:only-of-type {\n",
       "        vertical-align: middle;\n",
       "    }\n",
       "\n",
       "    .dataframe tbody tr th {\n",
       "        vertical-align: top;\n",
       "    }\n",
       "\n",
       "    .dataframe thead th {\n",
       "        text-align: right;\n",
       "    }\n",
       "</style>\n",
       "<table border=\"1\" class=\"dataframe\">\n",
       "  <thead>\n",
       "    <tr style=\"text-align: right;\">\n",
       "      <th></th>\n",
       "      <th>Korrelation</th>\n",
       "      <th>r-Wert</th>\n",
       "      <th>p-Wert</th>\n",
       "    </tr>\n",
       "  </thead>\n",
       "  <tbody>\n",
       "    <tr>\n",
       "      <th>0</th>\n",
       "      <td>SL_Mean ↔ PA_Mean (gesamt)</td>\n",
       "      <td>0.510256</td>\n",
       "      <td>2.692467e-08</td>\n",
       "    </tr>\n",
       "    <tr>\n",
       "      <th>1</th>\n",
       "      <td>UX_Mean ↔ PA_Mean (nur 'Ja')</td>\n",
       "      <td>0.611965</td>\n",
       "      <td>4.190458e-04</td>\n",
       "    </tr>\n",
       "    <tr>\n",
       "      <th>2</th>\n",
       "      <td>UX_Mean ↔ SL_Mean (nur 'Ja')</td>\n",
       "      <td>0.570641</td>\n",
       "      <td>1.227342e-03</td>\n",
       "    </tr>\n",
       "    <tr>\n",
       "      <th>3</th>\n",
       "      <td>UX_Mean ↔ SPES_Mean (nur 'Ja')</td>\n",
       "      <td>0.701127</td>\n",
       "      <td>2.270294e-05</td>\n",
       "    </tr>\n",
       "  </tbody>\n",
       "</table>\n",
       "</div>"
      ],
      "text/plain": [
       "                      Korrelation    r-Wert        p-Wert\n",
       "0      SL_Mean ↔ PA_Mean (gesamt)  0.510256  2.692467e-08\n",
       "1    UX_Mean ↔ PA_Mean (nur 'Ja')  0.611965  4.190458e-04\n",
       "2    UX_Mean ↔ SL_Mean (nur 'Ja')  0.570641  1.227342e-03\n",
       "3  UX_Mean ↔ SPES_Mean (nur 'Ja')  0.701127  2.270294e-05"
      ]
     },
     "metadata": {},
     "output_type": "display_data"
    }
   ],
   "source": [
    "# Tabelle erstellen\n",
    "correlation_df = pd.DataFrame({\n",
    "    \"Korrelation\": [\n",
    "        \"SL_Mean ↔ PA_Mean (gesamt)\",\n",
    "        \"UX_Mean ↔ PA_Mean (nur 'Ja')\",\n",
    "        \"UX_Mean ↔ SL_Mean (nur 'Ja')\",\n",
    "        \"UX_Mean ↔ SPES_Mean (nur 'Ja')\"\n",
    "    ],\n",
    "    \"r-Wert\": [r_sl_pa, r_ux_pa, r_ux_sl, r_ux_spes],\n",
    "    \"p-Wert\": [p_sl_pa, p_ux_pa, p_ux_sl, p_ux_spes]\n",
    "})\n",
    "\n",
    "# Ergebnisse anzeigen\n",
    "display(correlation_df)\n"
   ]
  },
  {
   "cell_type": "code",
   "execution_count": 42,
   "metadata": {},
   "outputs": [],
   "source": [
    "# Neue Altersgruppen erstellen (z. B. in 10er-Schritten)\n",
    "df[\"Altersgruppe\"] = pd.cut(\n",
    "    df[\"Wie alt sind Sie? (Angabe in Jahren)\"],\n",
    "    bins=[0, 19, 29, 39, 49, 59, 120],\n",
    "    labels=[\"<20\", \"20–29\", \"30–39\", \"40–49\", \"50–59\", \"60+\"]\n",
    ")\n"
   ]
  },
  {
   "cell_type": "code",
   "execution_count": 43,
   "metadata": {},
   "outputs": [
    {
     "name": "stdout",
     "output_type": "stream",
     "text": [
      "Chi²-Wert: 13.677\n",
      "p-Wert: 0.018\n",
      "Freiheitsgrade: 5\n",
      "\n",
      "Erwartete Häufigkeiten:\n",
      "Altersgruppe                       <20      20–29     30–39     40–49  \\\n",
      "Grashalm_interaktion_bemerkt                                            \n",
      "Ja                            1.951923   6.692308  3.346154  3.067308   \n",
      "Nein                          5.048077  17.307692  8.653846  7.932692   \n",
      "\n",
      "Altersgruppe                      50–59        60+  \n",
      "Grashalm_interaktion_bemerkt                        \n",
      "Ja                             5.855769   8.086538  \n",
      "Nein                          15.144231  20.913462  \n"
     ]
    }
   ],
   "source": [
    "from scipy.stats import chi2_contingency\n",
    "\n",
    "# Kontingenztabelle erstellen\n",
    "alter_kontingenz = pd.crosstab(df[\"Grashalm_interaktion_bemerkt\"], df[\"Altersgruppe\"])\n",
    "\n",
    "# Chi²-Test berechnen\n",
    "chi2_alt, p_alt, dof_alt, expected_alt = chi2_contingency(alter_kontingenz)\n",
    "\n",
    "# Ergebnisse ausgeben\n",
    "print(\"Chi²-Wert:\", round(chi2_alt, 3))\n",
    "print(\"p-Wert:\", round(p_alt, 3))\n",
    "print(\"Freiheitsgrade:\", dof_alt)\n",
    "print(\"\\nErwartete Häufigkeiten:\")\n",
    "print(pd.DataFrame(expected_alt, index=alter_kontingenz.index, columns=alter_kontingenz.columns))\n"
   ]
  },
  {
   "cell_type": "code",
   "execution_count": 45,
   "metadata": {},
   "outputs": [
    {
     "name": "stdout",
     "output_type": "stream",
     "text": [
      "Inter-Item-Korrelationsmatrix:\n",
      "                                                    Das System reagierte schnell und ohne spürbare Verzögerung auf meine Eingaben.  \\\n",
      "Das System reagierte schnell und ohne spürbare ...                                               1.00                                \n",
      "Die Steuerung des Systems war intuitiv und leic...                                               0.26                                \n",
      "Ich konnte meine beabsichtigten Aktionen proble...                                               0.38                                \n",
      "\n",
      "                                                    Die Steuerung des Systems war intuitiv und leicht verständlich.  \\\n",
      "Das System reagierte schnell und ohne spürbare ...                                               0.26                 \n",
      "Die Steuerung des Systems war intuitiv und leic...                                               1.00                 \n",
      "Ich konnte meine beabsichtigten Aktionen proble...                                               0.90                 \n",
      "\n",
      "                                                    Ich konnte meine beabsichtigten Aktionen problemlos ausführen.  \n",
      "Das System reagierte schnell und ohne spürbare ...                                               0.38               \n",
      "Die Steuerung des Systems war intuitiv und leic...                                               0.90               \n",
      "Ich konnte meine beabsichtigten Aktionen proble...                                               1.00               \n"
     ]
    }
   ],
   "source": [
    "#Validierung der UX-SKala\n",
    "# Nur Daten mit wahrgenommener Interaktion\n",
    "df_ux = df[df[\"Grashalm_interaktion_bemerkt\"] == \"Ja\"]\n",
    "\n",
    "# UX-Items extrahieren\n",
    "ux_items = [\n",
    "    \"Das System reagierte schnell und ohne spürbare Verzögerung auf meine Eingaben.\",\n",
    "    \"Die Steuerung des Systems war intuitiv und leicht verständlich.\",\n",
    "    \"Ich konnte meine beabsichtigten Aktionen problemlos ausführen.\"\n",
    "]\n",
    "\n",
    "# Korrelationsmatrix berechnen\n",
    "korrelationsmatrix = df_ux[ux_items].corr()\n",
    "\n",
    "# Ausgabe\n",
    "print(\"Inter-Item-Korrelationsmatrix:\")\n",
    "print(korrelationsmatrix.round(2))\n",
    "# Visualisierung der Korrelationsmatrix"
   ]
  },
  {
   "cell_type": "code",
   "execution_count": 47,
   "metadata": {},
   "outputs": [
    {
     "name": "stdout",
     "output_type": "stream",
     "text": [
      "\n",
      "Faktorladungen der UX-Items:\n",
      "Das System reagierte schnell und ohne spürbare Verzögerung auf meine Eingaben.    0.39\n",
      "Die Steuerung des Systems war intuitiv und leicht verständlich.                   0.64\n",
      "Ich konnte meine beabsichtigten Aktionen problemlos ausführen.                    0.66\n",
      "dtype: float64\n",
      "\n",
      "Erklärte Varianz durch Faktor 1: 69.64 %\n"
     ]
    }
   ],
   "source": [
    "from sklearn.decomposition import PCA\n",
    "from sklearn.preprocessing import StandardScaler\n",
    "\n",
    "# UX-Daten standardisieren (wichtig für PCA!)\n",
    "scaler = StandardScaler()\n",
    "ux_scaled = scaler.fit_transform(df_ux[ux_items])\n",
    "\n",
    "# PCA auf 1 Faktor\n",
    "pca = PCA(n_components=1)\n",
    "pca.fit(ux_scaled)\n",
    "\n",
    "# Faktorladungen\n",
    "loadings = pd.Series(pca.components_[0], index=ux_items)\n",
    "\n",
    "# Ergebnis anzeigen\n",
    "print(\"\\nFaktorladungen der UX-Items:\")\n",
    "print(loadings.round(2))\n",
    "\n",
    "# Anteil erklärter Varianz\n",
    "print(\"\\nErklärte Varianz durch Faktor 1:\", round(pca.explained_variance_ratio_[0]*100, 2), \"%\")\n"
   ]
  }
 ],
 "metadata": {
  "kernelspec": {
   "display_name": "masterarbeit1",
   "language": "python",
   "name": "python3"
  },
  "language_info": {
   "codemirror_mode": {
    "name": "ipython",
    "version": 3
   },
   "file_extension": ".py",
   "mimetype": "text/x-python",
   "name": "python",
   "nbconvert_exporter": "python",
   "pygments_lexer": "ipython3",
   "version": "3.10.9"
  }
 },
 "nbformat": 4,
 "nbformat_minor": 2
}
